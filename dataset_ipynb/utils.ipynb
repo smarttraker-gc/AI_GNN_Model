{
 "cells": [
  {
   "cell_type": "code",
   "execution_count": null,
   "id": "dd80d0af",
   "metadata": {
    "lines_to_next_cell": 1
   },
   "outputs": [],
   "source": [
    "import torch\n",
    "from torch_geometric.data import HeteroData"
   ]
  },
  {
   "cell_type": "code",
   "execution_count": null,
   "id": "4dae4947",
   "metadata": {},
   "outputs": [],
   "source": [
    "def load_preprocessed_data(path):\n",
    "    data = torch.load(path)\n",
    "    user_features = data[\"user_features\"]\n",
    "    item_features = data[\"item_features\"]\n",
    "    train_df = data[\"train\"]\n",
    "    val_df = data[\"val\"]\n",
    "    test_df = data[\"test\"]\n",
    "    user_id_map = data[\"user_id_map\"]\n",
    "    item_id_map = data[\"item_id_map\"]\n",
    "    return user_features, item_features, train_df, val_df, test_df, user_id_map, item_id_map"
   ]
  },
  {
   "cell_type": "code",
   "execution_count": null,
   "id": "0c0e3e53",
   "metadata": {},
   "outputs": [],
   "source": [
    "def create_hetero_data(user_features, item_features, df):\n",
    "    data = HeteroData()\n",
    "    data['user'].x = user_features\n",
    "    data['item'].x = item_features\n",
    "    user_edges = torch.tensor(df[\"user_numeric_id\"].values, dtype=torch.long)\n",
    "    item_edges = torch.tensor(df[\"item_numeric_id\"].values, dtype=torch.long)\n",
    "    edge_weights = torch.tensor(df[\"선호 점수\"].values, dtype=torch.float)\n",
    "    data['user', 'interacts', 'item'].edge_index = torch.stack([user_edges, item_edges])\n",
    "    data['user', 'interacts', 'item'].edge_attr = edge_weights\n",
    "    data['user', 'interacts', 'item'].y = edge_weights\n",
    "    return data"
   ]
  },
  {
   "cell_type": "code",
   "execution_count": null,
   "id": "23dee4bc",
   "metadata": {},
   "outputs": [],
   "source": []
  },
  {
   "cell_type": "code",
   "execution_count": null,
   "id": "200c7594",
   "metadata": {},
   "outputs": [],
   "source": [
    "class EarlyStopping:\n",
    "    def __init__(self, patience=10, delta=0, verbose=False, path='checkpoint.pth'):\n",
    "        self.patience = patience\n",
    "        self.delta = delta\n",
    "        self.verbose = verbose\n",
    "        self.path = path\n",
    "        self.counter = 0\n",
    "        self.best_score = None\n",
    "        self.early_stop = False\n",
    "\n",
    "    def __call__(self, val_loss, model):\n",
    "        score = -val_loss\n",
    "\n",
    "        if self.best_score is None:\n",
    "            self.best_score = score\n",
    "            self.save_checkpoint(val_loss, model)\n",
    "        elif score < self.best_score + self.delta:\n",
    "            self.counter += 1\n",
    "\n",
    "            if self.counter >= self.patience:\n",
    "                self.early_stop = True\n",
    "        else:\n",
    "            self.best_score = score\n",
    "            self.save_checkpoint(val_loss, model)\n",
    "            self.counter = 0\n",
    "\n",
    "    def save_checkpoint(self, val_loss, model):\n",
    "  \n",
    "        torch.save(model.state_dict(), self.path)"
   ]
  }
 ],
 "metadata": {
  "jupytext": {
   "cell_metadata_filter": "-all",
   "main_language": "python",
   "notebook_metadata_filter": "-all"
  }
 },
 "nbformat": 4,
 "nbformat_minor": 5
}
