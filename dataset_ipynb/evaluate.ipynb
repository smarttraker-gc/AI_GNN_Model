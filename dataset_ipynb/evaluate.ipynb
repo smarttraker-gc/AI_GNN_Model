{
 "cells": [
  {
   "cell_type": "code",
   "execution_count": null,
   "id": "532e9fc7",
   "metadata": {
    "lines_to_next_cell": 1
   },
   "outputs": [],
   "source": [
    "import argparse\n",
    "import torch\n",
    "import torch.nn as nn\n",
    "from transformers import AutoTokenizer, AutoModel\n",
    "import pandas as pd\n",
    "import numpy as np\n",
    "from model import *\n",
    "from utils import *\n",
    "import warnings\n",
    "import json\n",
    "warnings.filterwarnings(\"ignore\", category=FutureWarning)"
   ]
  },
  {
   "cell_type": "code",
   "execution_count": null,
   "id": "86c59143",
   "metadata": {
    "lines_to_next_cell": 1
   },
   "outputs": [],
   "source": [
    "def parse_args():\n",
    "    parser = argparse.ArgumentParser(description=\"GNN-based Recommendation System with User CSV\")\n",
    "    parser.add_argument(\"--data_path\", type=str, default=\"dataset/preprocessed_data.pt\", help=\"Path to preprocessed data\")\n",
    "    parser.add_argument(\"--model_path\", type=str, default=\"best_model.pth\", help=\"Path to trained model\")\n",
    "    parser.add_argument(\"--item_csv\", type=str, default=\"dataset/item.csv\", help=\"Path to item metadata CSV file\")\n",
    "    parser.add_argument(\"--user_csv\", type=str, default=\"dataset/new_user.csv\", help=\"Path to new user CSV file\")\n",
    "    parser.add_argument(\"--top_n\", type=int, default=10, help=\"Number of top recommendations\")\n",
    "    parser.add_argument(\"--top_n_closest\", type=int, default=3, help=\"Number of closest items based on distance\")\n",
    "    return parser.parse_args()"
   ]
  },
  {
   "cell_type": "code",
   "execution_count": null,
   "id": "74290498",
   "metadata": {
    "lines_to_next_cell": 1
   },
   "outputs": [],
   "source": [
    "def embed_new_user(new_user_text, tokenizer, bert_model):\n",
    "    inputs = tokenizer(new_user_text, padding=True, truncation=True, return_tensors=\"pt\", max_length=128)\n",
    "    with torch.no_grad():\n",
    "        text_embedding = bert_model(**inputs).last_hidden_state[:, 0, :]\n",
    "    return text_embedding"
   ]
  },
  {
   "cell_type": "code",
   "execution_count": null,
   "id": "3b5f8e23",
   "metadata": {
    "lines_to_next_cell": 1
   },
   "outputs": [],
   "source": [
    "def add_new_user_and_calculate_scores(new_user_embedding, model, train_data):\n",
    "    updated_data = train_data\n",
    "    updated_user_features = torch.cat([updated_data['user'].x, new_user_embedding], dim=0)\n",
    "    updated_data['user'].x = updated_user_features\n",
    "    new_user_index = updated_user_features.shape[0] - 1\n",
    "    model.eval()\n",
    "    with torch.no_grad():\n",
    "        x_dict = {'user': updated_data['user'].x, 'item': updated_data['item'].x}\n",
    "        edge_index_dict = {\n",
    "            ('user', 'interacts', 'item'): updated_data['user', 'interacts', 'item'].edge_index,\n",
    "            ('item', 'rev_interacts', 'user'): updated_data['user', 'interacts', 'item'].edge_index.flip(0)\n",
    "        }\n",
    "        out = model(x_dict, edge_index_dict)\n",
    "    user_embedding = out['user'][new_user_index]\n",
    "    item_embeddings = out['item']\n",
    "    scores = torch.matmul(user_embedding, item_embeddings.T)\n",
    "    return scores, item_embeddings"
   ]
  },
  {
   "cell_type": "code",
   "execution_count": null,
   "id": "176f4d8b",
   "metadata": {
    "lines_to_next_cell": 1
   },
   "outputs": [],
   "source": [
    "def recommend_top_n_items(scores, item_id_map, N=10):\n",
    "    top_n_indices = torch.topk(scores, N).indices\n",
    "    item_id_reverse_map = {v: k for k, v in item_id_map.items()}\n",
    "    top_n_items = [item_id_reverse_map[idx.item()] for idx in top_n_indices]\n",
    "    return top_n_items"
   ]
  },
  {
   "cell_type": "code",
   "execution_count": null,
   "id": "1a94971f",
   "metadata": {
    "lines_to_next_cell": 1
   },
   "outputs": [],
   "source": [
    "def calculate_distance(lat1, lon1, lat2, lon2):\n",
    "    return np.sqrt((lat1 - lat2) ** 2 + (lon1 - lon2) ** 2)"
   ]
  },
  {
   "cell_type": "code",
   "execution_count": null,
   "id": "66053df6",
   "metadata": {
    "lines_to_next_cell": 1
   },
   "outputs": [],
   "source": [
    "def find_closest_paths(user_lat, user_lon, item_df, top_n=3):\n",
    "    item_df['distance'] = item_df.apply(\n",
    "        lambda row: calculate_distance(user_lat, user_lon, row['위도'], row['경도']), axis=1\n",
    "    )\n",
    "    closest_paths = item_df.nsmallest(top_n, 'distance')[['위도', '경도', '걷기코스 구분명', '걷기코스 이름' ,'distance']]\n",
    "    closest_paths = closest_paths[[ '걷기코스 구분명', '걷기코스 이름' ,'distance']]\n",
    "    return closest_paths"
   ]
  },
  {
   "cell_type": "code",
   "execution_count": null,
   "id": "d3c02dd3",
   "metadata": {
    "lines_to_next_cell": 1
   },
   "outputs": [],
   "source": [
    "def create_user_texts(user_csv_path, user_text_columns):\n",
    "    df = pd.read_csv(user_csv_path)\n",
    "    user_texts = df[user_text_columns].apply(lambda row: ','.join(map(str, row.values)), axis=1)\n",
    "    return user_texts.tolist()"
   ]
  },
  {
   "cell_type": "code",
   "execution_count": null,
   "id": "7bbf19bc",
   "metadata": {
    "lines_to_next_cell": 1
   },
   "outputs": [],
   "source": [
    "def extract_indices_from_top_n_items(top_n_items):\n",
    "    indices = [int(item.split('_')[1]) for item in top_n_items]\n",
    "    return indices"
   ]
  },
  {
   "cell_type": "code",
   "execution_count": null,
   "id": "65086daf",
   "metadata": {
    "lines_to_next_cell": 1
   },
   "outputs": [],
   "source": [
    "def create_new_item_df(item_df, indices):\n",
    "    return item_df.iloc[indices]"
   ]
  },
  {
   "cell_type": "code",
   "execution_count": null,
   "id": "0b9be78e",
   "metadata": {
    "lines_to_next_cell": 1
   },
   "outputs": [],
   "source": [
    "def main():\n",
    "    args = parse_args()\n",
    "    tokenizer = AutoTokenizer.from_pretrained(\"klue/bert-base\")\n",
    "    bert_model = AutoModel.from_pretrained(\"klue/bert-base\")\n",
    "    user_text_columns = [\"성별\", \"키\", \"몸무게\", \"거주지역\", \"선호하는 장소\", \"트래킹 난이도\", \"위도\", \"경도\"]\n",
    "    user_texts = create_user_texts(args.user_csv, user_text_columns)\n",
    "    new_user_text = user_texts[0]\n",
    "\n",
    "    raw_new_user_embedding = embed_new_user(new_user_text, tokenizer, bert_model)\n",
    "    user_features, item_features, train_df, val_df, test_df, user_id_map, item_id_map = load_preprocessed_data(\"dataset/preprocessed_data.pt\")\n",
    "\n",
    "    train_df = train_df.dropna().reset_index(drop=True)\n",
    "    train_data = create_hetero_data(user_features, item_features, train_df)\n",
    "\n",
    "    model = GNNRecommender(input_dim=768, hidden_dim=256)\n",
    "    model.load_state_dict(torch.load(args.model_path))\n",
    "    model.eval()\n",
    "\n",
    "    scores, item_embeddings = add_new_user_and_calculate_scores(raw_new_user_embedding, model, train_data)\n",
    "    top_n_items = recommend_top_n_items(scores, item_id_map, args.top_n)\n",
    "    indices = extract_indices_from_top_n_items(top_n_items)\n",
    "    item_df = create_new_item_df(pd.read_csv(args.item_csv), indices)\n",
    "\n",
    "    user_lat, user_lon = map(float, new_user_text.split(',')[-2:])\n",
    "    top_3_paths = find_closest_paths(user_lat, user_lon, item_df, top_n=args.top_n_closest)\n",
    "    top_3_paths_json = top_3_paths.to_dict(orient='records')\n",
    "    with open(\"top_3_paths.json\", \"w\", encoding=\"utf-8\") as json_file:\n",
    "        json.dump(top_3_paths_json, json_file, ensure_ascii=False, indent=4)\n",
    "\n",
    "    print(\"Top-3 closest paths have been saved to 'top_3_paths.json'.\")"
   ]
  },
  {
   "cell_type": "code",
   "execution_count": null,
   "id": "a14ae8cb",
   "metadata": {},
   "outputs": [],
   "source": [
    "if __name__ == \"__main__\":\n",
    "    main()"
   ]
  }
 ],
 "metadata": {
  "jupytext": {
   "cell_metadata_filter": "-all",
   "main_language": "python",
   "notebook_metadata_filter": "-all"
  }
 },
 "nbformat": 4,
 "nbformat_minor": 5
}
