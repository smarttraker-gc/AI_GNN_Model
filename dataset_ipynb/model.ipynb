{
 "cells": [
  {
   "cell_type": "code",
   "execution_count": null,
   "id": "4281fdfa",
   "metadata": {
    "lines_to_next_cell": 1
   },
   "outputs": [],
   "source": [
    "import torch.nn as nn\n",
    "from torch_geometric.nn import GCNConv, Linear\n",
    "import torch"
   ]
  },
  {
   "cell_type": "code",
   "execution_count": null,
   "id": "420cc7cb",
   "metadata": {},
   "outputs": [],
   "source": [
    "class GNNRecommender(nn.Module):\n",
    "    def __init__(self, input_dim, hidden_dim):\n",
    "        super(GNNRecommender, self).__init__()\n",
    "        self.user_to_item_conv = GCNConv(input_dim, hidden_dim)\n",
    "        self.item_to_user_conv = GCNConv(input_dim, hidden_dim)\n",
    "        self.projection = nn.Linear(hidden_dim, hidden_dim)\n",
    "        self.predictor = Linear(hidden_dim * 2, 1)\n",
    "        self.x_dict = dict()\n",
    "\n",
    "    def forward(self, x_dict, edge_index_dict):\n",
    "        item_emb = self.user_to_item_conv(x_dict['item'], edge_index_dict[('user', 'interacts', 'item')])\n",
    "        item_emb = nn.ReLU()(item_emb)\n",
    "        user_emb = self.item_to_user_conv(x_dict['user'], edge_index_dict[('item', 'rev_interacts', 'user')])\n",
    "        user_emb = nn.ReLU()(user_emb)\n",
    "        item_emb = self.projection(item_emb)\n",
    "        user_emb = self.projection(user_emb)\n",
    "        self.x_dict['item'] = item_emb\n",
    "        self.x_dict['user'] = user_emb\n",
    "        return self.x_dict\n",
    "\n",
    "    def get_node_embeddings(self, x_dict, edge_index_dict, node_type='user'):\n",
    "        self.eval()\n",
    "        with torch.no_grad():\n",
    "            x_dict = self.forward(x_dict, edge_index_dict)\n",
    "            return x_dict[node_type]\n",
    "\n",
    "    def predict(self, user_emb, item_emb):\n",
    "        edge_features = torch.cat([user_emb, item_emb], dim=1)\n",
    "        return self.predictor(edge_features).squeeze()"
   ]
  }
 ],
 "metadata": {
  "jupytext": {
   "cell_metadata_filter": "-all",
   "main_language": "python",
   "notebook_metadata_filter": "-all"
  }
 },
 "nbformat": 4,
 "nbformat_minor": 5
}
