{
 "cells": [
  {
   "cell_type": "code",
   "execution_count": 1,
   "id": "e1a6a73f",
   "metadata": {},
   "outputs": [],
   "source": [
    "import torch\n",
    "import numpy as np\n",
    "import random\n",
    "import torch.optim as optim\n",
    "import torch.nn as nn"
   ]
  },
  {
   "cell_type": "code",
   "execution_count": 2,
   "id": "25cefa9d",
   "metadata": {},
   "outputs": [
    {
     "ename": "ModuleNotFoundError",
     "evalue": "No module named 'model'",
     "output_type": "error",
     "traceback": [
      "\u001b[0;31m---------------------------------------------------------------------------\u001b[0m",
      "\u001b[0;31mModuleNotFoundError\u001b[0m                       Traceback (most recent call last)",
      "Cell \u001b[0;32mIn[2], line 1\u001b[0m\n\u001b[0;32m----> 1\u001b[0m \u001b[38;5;28;01mfrom\u001b[39;00m \u001b[38;5;21;01mmodel\u001b[39;00m \u001b[38;5;28;01mimport\u001b[39;00m GNNRecommender  \n\u001b[1;32m      2\u001b[0m \u001b[38;5;28;01mimport\u001b[39;00m \u001b[38;5;21;01mwarnings\u001b[39;00m\n\u001b[1;32m      3\u001b[0m warnings\u001b[38;5;241m.\u001b[39mfilterwarnings(\u001b[38;5;124m\"\u001b[39m\u001b[38;5;124mignore\u001b[39m\u001b[38;5;124m\"\u001b[39m, category\u001b[38;5;241m=\u001b[39m\u001b[38;5;167;01mFutureWarning\u001b[39;00m)\n",
      "\u001b[0;31mModuleNotFoundError\u001b[0m: No module named 'model'"
     ]
    }
   ],
   "source": [
    "from model import GNNRecommender  \n",
    "import warnings\n",
    "warnings.filterwarnings(\"ignore\", category=FutureWarning)\n",
    "from utils import *"
   ]
  },
  {
   "cell_type": "code",
   "execution_count": null,
   "id": "dad38b1d",
   "metadata": {
    "lines_to_next_cell": 1
   },
   "outputs": [],
   "source": [
    "def set_seed(seed):\n",
    "    random.seed(seed)\n",
    "    np.random.seed(seed)\n",
    "    torch.manual_seed(seed)\n",
    "    torch.cuda.manual_seed_all(seed)\n",
    "    torch.backends.cudnn.deterministic = True\n",
    "    torch.backends.cudnn.benchmark = False"
   ]
  },
  {
   "cell_type": "code",
   "execution_count": null,
   "id": "bdc627e7",
   "metadata": {},
   "outputs": [],
   "source": [
    "def main():\n",
    "    args = {\n",
    "        \"seed\": 42,\n",
    "        \"input_dim\": 768,\n",
    "        \"hidden_dim\": 256,\n",
    "        \"learning_rate\": 0.01,\n",
    "        \"epochs\": 100,\n",
    "        \"patience\": 100,\n",
    "        \"delta\": 0.001,\n",
    "        \"model_path\": \"best_model.pth\",\n",
    "        \"data_path\": \"dataset/preprocessed_data.pt\"\n",
    "    }\n",
    "\n",
    "    set_seed(args[\"seed\"])\n",
    "\n",
    "\n",
    "\n",
    "\n",
    "    user_features, item_features, train_df, val_df, test_df, user_id_map, item_id_map = load_preprocessed_data(args[\"data_path\"])\n",
    "\n",
    "    train_df = train_df.dropna().reset_index(drop=True)\n",
    "    val_df = val_df.dropna().reset_index(drop=True)\n",
    "    test_df = test_df.dropna().reset_index(drop=True)\n",
    "\n",
    "    train_data = create_hetero_data(user_features, item_features, train_df)\n",
    "    val_data = create_hetero_data(user_features, item_features, val_df)\n",
    "    test_data = create_hetero_data(user_features, item_features, test_df)\n",
    "\n",
    "    model = GNNRecommender(input_dim=args[\"input_dim\"], hidden_dim=args[\"hidden_dim\"])\n",
    "    optimizer = optim.Adam(model.parameters(), lr=args[\"learning_rate\"])\n",
    "    loss_fn = nn.MSELoss()\n",
    "    early_stopping = EarlyStopping(patience=args[\"patience\"], delta=args[\"delta\"], verbose=True, path=args[\"model_path\"])\n",
    "\n",
    "    for epoch in range(args[\"epochs\"]):\n",
    "        model.train()\n",
    "        optimizer.zero_grad()\n",
    "\n",
    "        x_dict = {'user': train_data['user'].x, 'item': train_data['item'].x}\n",
    "        edge_index_dict = {\n",
    "            ('user', 'interacts', 'item'): train_data['user', 'interacts', 'item'].edge_index,\n",
    "            ('item', 'rev_interacts', 'user'): train_data['user', 'interacts', 'item'].edge_index.flip(0)\n",
    "        }\n",
    "\n",
    "        out = model(x_dict, edge_index_dict)\n",
    "        user_emb = out['user'][train_data['user', 'interacts', 'item'].edge_index[0]]\n",
    "        item_emb = out['item'][train_data['user', 'interacts', 'item'].edge_index[1]]\n",
    "\n",
    "        pred_scores = model.predict(user_emb, item_emb)\n",
    "        loss = loss_fn(pred_scores, train_data['user', 'interacts', 'item'].y)\n",
    "\n",
    "        loss.backward()\n",
    "        optimizer.step()\n",
    "\n",
    "        model.eval()\n",
    "        with torch.no_grad():\n",
    "            x_dict_val = {'user': val_data['user'].x, 'item': val_data['item'].x}\n",
    "            edge_index_dict_val = {\n",
    "                ('user', 'interacts', 'item'): val_data['user', 'interacts', 'item'].edge_index,\n",
    "                ('item', 'rev_interacts', 'user'): val_data['user', 'interacts', 'item'].edge_index.flip(0)\n",
    "            }\n",
    "\n",
    "            out_val = model(x_dict_val, edge_index_dict_val)\n",
    "            user_emb_val = out_val['user'][val_data['user', 'interacts', 'item'].edge_index[0]]\n",
    "            item_emb_val = out_val['item'][val_data['user', 'interacts', 'item'].edge_index[1]]\n",
    "\n",
    "            pred_scores_val = model.predict(user_emb_val, item_emb_val)\n",
    "            val_loss = loss_fn(pred_scores_val, val_data['user', 'interacts', 'item'].y)\n",
    "\n",
    "            print(f\"Epoch {epoch + 1}, Training Loss: {loss.item():.4f}, Validation Loss: {val_loss.item():.4f}\")\n",
    "\n",
    "        early_stopping(val_loss.item(), model)\n",
    "        if early_stopping.early_stop:\n",
    "            print(\"Early stopping triggered.\")\n",
    "            break\n",
    "\n",
    "    model.eval()\n",
    "    with torch.no_grad():\n",
    "        x_dict_test = {'user': test_data['user'].x, 'item': test_data['item'].x}\n",
    "        edge_index_dict_test = {\n",
    "            ('user', 'interacts', 'item'): test_data['user', 'interacts', 'item'].edge_index,\n",
    "            ('item', 'rev_interacts', 'user'): test_data['user', 'interacts', 'item'].edge_index.flip(0)\n",
    "        }\n",
    "        \n",
    "        out_test = model(x_dict_test, edge_index_dict_test)\n",
    "        \n",
    "        user_emb_test = out_test['user'][test_data['user', 'interacts', 'item'].edge_index[0]]\n",
    "        item_emb_test = out_test['item'][test_data['user', 'interacts', 'item'].edge_index[1]]\n",
    "        \n",
    "        pred_scores_test = model.predict(user_emb_test, item_emb_test)\n",
    "        \n",
    "        test_loss = loss_fn(pred_scores_test, test_data['user', 'interacts', 'item'].y)\n",
    "        print(f\"Test Loss: {test_loss.item():.4f}\")\n",
    "\n",
    "        model.load_state_dict(torch.load(args[\"model_path\"]))\n",
    "        print(\"Loaded the best model.\")"
   ]
  },
  {
   "cell_type": "code",
   "execution_count": null,
   "id": "c1766c62",
   "metadata": {},
   "outputs": [],
   "source": [
    "if __name__ == \"__main__\":\n",
    "    main()"
   ]
  }
 ],
 "metadata": {
  "jupytext": {
   "cell_metadata_filter": "-all",
   "main_language": "python",
   "notebook_metadata_filter": "-all"
  },
  "kernelspec": {
   "display_name": "Python 3 (ipykernel)",
   "language": "python",
   "name": "python3"
  },
  "language_info": {
   "codemirror_mode": {
    "name": "ipython",
    "version": 3
   },
   "file_extension": ".py",
   "mimetype": "text/x-python",
   "name": "python",
   "nbconvert_exporter": "python",
   "pygments_lexer": "ipython3",
   "version": "3.11.7"
  }
 },
 "nbformat": 4,
 "nbformat_minor": 5
}
