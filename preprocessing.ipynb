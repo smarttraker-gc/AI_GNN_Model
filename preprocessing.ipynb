{
 "cells": [
  {
   "cell_type": "code",
   "execution_count": 1,
   "id": "167b6624",
   "metadata": {},
   "outputs": [],
   "source": [
    "import pandas as pd\n",
    "import torch\n",
    "from transformers import AutoTokenizer, AutoModel\n",
    "from sklearn.model_selection import train_test_split\n",
    "from tqdm import tqdm\n",
    "import json"
   ]
  },
  {
   "cell_type": "code",
   "execution_count": 2,
   "id": "7bba77c3",
   "metadata": {},
   "outputs": [],
   "source": [
    "user_df = pd.read_csv(\"dataset/user.csv\")\n",
    "item_df = pd.read_csv(\"dataset/item.csv\")\n",
    "interaction_df = pd.read_csv(\"dataset/preferences.csv\")"
   ]
  },
  {
   "cell_type": "code",
   "execution_count": 3,
   "id": "f38b1565",
   "metadata": {
    "lines_to_next_cell": 1
   },
   "outputs": [],
   "source": [
    "tokenizer = AutoTokenizer.from_pretrained(\"klue/bert-base\")\n",
    "model = AutoModel.from_pretrained(\"klue/bert-base\")"
   ]
  },
  {
   "cell_type": "code",
   "execution_count": 4,
   "id": "0c531f65",
   "metadata": {
    "lines_to_next_cell": 1
   },
   "outputs": [],
   "source": [
    "def embed_texts(texts, batch_size=64):\n",
    "    embeddings = []\n",
    "    for i in tqdm(range(0, len(texts), batch_size), desc=\"Embedding Texts\"):\n",
    "        batch_texts = texts[i:i + batch_size]\n",
    "        inputs = tokenizer(batch_texts, padding=True, truncation=True, return_tensors=\"pt\", max_length=128)\n",
    "        with torch.no_grad():\n",
    "            outputs = model(**inputs)\n",
    "        embeddings.append(outputs.last_hidden_state[:, 0, :].cpu())\n",
    "    return torch.cat(embeddings, dim=0).tolist()"
   ]
  },
  {
   "cell_type": "code",
   "execution_count": 5,
   "id": "7e08c6c5",
   "metadata": {
    "lines_to_next_cell": 1
   },
   "outputs": [],
   "source": [
    "def add_column_names_to_values(df):\n",
    "    return df.apply(lambda row: \" \".join([f\"{col}:{row[col]}\" for col in df.columns]), axis=1)"
   ]
  },
  {
   "cell_type": "code",
   "execution_count": null,
   "id": "9bd57529",
   "metadata": {},
   "outputs": [
    {
     "name": "stderr",
     "output_type": "stream",
     "text": [
      "Embedding Texts:  62%|██████████████▏        | 968/1563 [13:46<09:01,  1.10it/s]"
     ]
    }
   ],
   "source": [
    "user_df[\"사용자 ID\"] = [\"사용자_\" + str(idx) for idx in range(len(user_df))]\n",
    "user_text_columns = [\"성별\", \"키\", \"몸무게\", \"거주지역\", \"선호하는 장소\", \"트래킹 난이도\", \"위도\", \"경도\"]\n",
    "user_texts = add_column_names_to_values(user_df[user_text_columns]).tolist()\n",
    "user_features_tensor = embed_texts(user_texts)"
   ]
  },
  {
   "cell_type": "code",
   "execution_count": null,
   "id": "a4dace00",
   "metadata": {
    "lines_to_next_cell": 2
   },
   "outputs": [],
   "source": [
    "item_df[\"산책로 ID\"] = [\"산책로_\" + str(idx) for idx in range(len(item_df))]\n",
    "item_text_columns = [\"행정구역명\", \"코스 난이도\", \"코스 경관 카테고리\", \"소요시간\", \"주소\", \"위도\", \"경도\"]\n",
    "item_texts = add_column_names_to_values(item_df[item_text_columns]).tolist()\n",
    "item_features_tensor = embed_texts(item_texts)"
   ]
  },
  {
   "cell_type": "code",
   "execution_count": null,
   "id": "50fa4d5f",
   "metadata": {},
   "outputs": [],
   "source": [
    "user_id_map = {uid: idx for idx, uid in enumerate(user_df[\"사용자 ID\"].unique())}\n",
    "item_id_map = {iid: idx for idx, iid in enumerate(item_df[\"산책로 ID\"].unique())}\n",
    "interaction_df[\"user_numeric_id\"] = interaction_df[\"사용자_ID\"].map(user_id_map)\n",
    "interaction_df[\"item_numeric_id\"] = interaction_df[\"산책로_ID\"].map(item_id_map)"
   ]
  },
  {
   "cell_type": "code",
   "execution_count": null,
   "id": "da902e15",
   "metadata": {},
   "outputs": [],
   "source": [
    "random_seed = 42\n",
    "train_df, test_df = train_test_split(interaction_df, test_size=0.2, random_state=random_seed)\n",
    "train_df, val_df = train_test_split(train_df, test_size=0.2, random_state=random_seed)"
   ]
  },
  {
   "cell_type": "code",
   "execution_count": null,
   "id": "6a6bfd10",
   "metadata": {
    "scrolled": true
   },
   "outputs": [],
   "source": [
    "preprocessed_data = {\n",
    "    \"user_features\": user_features,\n",
    "    \"item_features\": item_features,  # 같은 방식으로 item_features도 확인\n",
    "    \"train\": train_df.to_dict(orient=\"records\"),\n",
    "    \"val\": val_df.to_dict(orient=\"records\"),\n",
    "    \"test\": test_df.to_dict(orient=\"records\"),\n",
    "    \"user_id_map\": user_id_map,\n",
    "    \"item_id_map\": item_id_map,\n",
    "}\n",
    "\n",
    "with open(\"dataset/preprocessed_data.json\", \"w\", encoding=\"utf-8\") as f:\n",
    "    json.dump(preprocessed_data, f, indent=4, ensure_ascii=False)\n",
    "\n",
    "print(\"Preprocessed data saved successfully as JSON!\")"
   ]
  }
 ],
 "metadata": {
  "jupytext": {
   "cell_metadata_filter": "-all",
   "main_language": "python",
   "notebook_metadata_filter": "-all"
  },
  "kernelspec": {
   "display_name": "Python 3 (ipykernel)",
   "language": "python",
   "name": "python3"
  },
  "language_info": {
   "codemirror_mode": {
    "name": "ipython",
    "version": 3
   },
   "file_extension": ".py",
   "mimetype": "text/x-python",
   "name": "python",
   "nbconvert_exporter": "python",
   "pygments_lexer": "ipython3",
   "version": "3.11.7"
  }
 },
 "nbformat": 4,
 "nbformat_minor": 5
}
